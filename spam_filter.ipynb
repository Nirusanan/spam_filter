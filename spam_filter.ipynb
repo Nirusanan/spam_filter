{
  "nbformat": 4,
  "nbformat_minor": 0,
  "metadata": {
    "colab": {
      "provenance": []
    },
    "kernelspec": {
      "name": "python3",
      "display_name": "Python 3"
    },
    "language_info": {
      "name": "python"
    }
  },
  "cells": [
    {
      "cell_type": "code",
      "execution_count": 1,
      "metadata": {
        "id": "IQIjTYxB-J1w"
      },
      "outputs": [],
      "source": [
        "# This is packages use machine learnig works in spam mail filter\n",
        "import numpy as np\n",
        "import string\n",
        "from nltk.classify import NaiveBayesClassifier"
      ]
    },
    {
      "cell_type": "code",
      "source": [
        "fname = \"mail.txt\" #This file is the mail file i just now copy my mail in this file\n",
        "with open(fname) as f:\n",
        "    content = f.readlines()"
      ],
      "metadata": {
        "id": "fpgmN_gEGdZJ"
      },
      "execution_count": 2,
      "outputs": []
    },
    {
      "cell_type": "code",
      "source": [
        "content"
      ],
      "metadata": {
        "colab": {
          "base_uri": "https://localhost:8080/"
        },
        "id": "dseKpxp2IvVW",
        "outputId": "8c82827b-8a3b-49ab-cda6-fb248599b789"
      },
      "execution_count": 3,
      "outputs": [
        {
          "output_type": "execute_result",
          "data": {
            "text/plain": [
              "['\\n',\n",
              " '\\n',\n",
              " 'Hi there,  \\n',\n",
              " '\\n',\n",
              " 'We are halfway through our API lifecycle series and the next session , \" Using the Open API Specification Across the SDLC   \"   is tomorrow, July 24th! We will be discussing the tactical journey of standardizing around Open API and how to scale and enforce design practices across teams in your organization.\\n',\n",
              " '\\n',\n",
              " \"In the past two sessions we covered upgrading from open source to pro tooling and exploring design-first vs code-first approaches to API development.  Don't worry if you missed either of these sessions, just sign-up and we will send you a recording of all the past & upcoming sessions!\\n\",\n",
              " '\\n',\n",
              " 'There are 2 more sessions left in the series, sign up now to not miss out!    Here is an overview of remaining topics we will be discussing:   \\n',\n",
              " '\\n',\n",
              " '    July 24th: Using the Open API Specification Across the SDLC\\n',\n",
              " '    July 31st: Showcasing Teams that Have Put SmartBear Tools into Action\\n',\n",
              " '\\n']"
            ]
          },
          "metadata": {},
          "execution_count": 3
        }
      ]
    },
    {
      "cell_type": "markdown",
      "source": [
        "**Get the body text**"
      ],
      "metadata": {
        "id": "EiMVV8DWGlYa"
      }
    },
    {
      "cell_type": "code",
      "source": [
        "#these are help remove email header and fotter setntence\n",
        "top_divide = [\"Dear Friend,\\n\",\"DEAR FRIEND,\\n\",\"ATTENTION:PRESIDENT,CEO Sir/ Madam.\\n\",\"Dear sir,\\n\",\"Dear Sir/Madam,\\n\"\n",
        "         \"ATTENTION:MADAM/SIR\\n\",\"Dear Friend ,\\n\",'Dear Sir/Madam,\\n','Dear Sir,\\n', 'Hi there,  \\n', 'Good morning, \\n']\n",
        "\n",
        "bottom_divide = [\"YOUR SINCERELY,\\n\",\"Yours Faithfully,\\n\",\"Your Faithfully,\\n\",\"Best Regards, \\n\",\"Best Regards\\n\",\"Sincere,\\n\",\n",
        "                 \"With Regards, \\n\", \"With Regards,\\n\" , \"Regards\\n \"]"
      ],
      "metadata": {
        "id": "BvouUwNCGdbk"
      },
      "execution_count": 4,
      "outputs": []
    },
    {
      "cell_type": "code",
      "source": [
        "top = \"\"\n",
        "bottom = \"\"\n",
        "for i in top_divide:\n",
        "    if i in content:\n",
        "        top = i\n",
        "for i in bottom_divide:\n",
        "    if i in content:\n",
        "        bottom = i"
      ],
      "metadata": {
        "id": "PZH9YRKJGdeH"
      },
      "execution_count": 5,
      "outputs": []
    },
    {
      "cell_type": "code",
      "source": [
        "L = [] # This is the message get list"
      ],
      "metadata": {
        "id": "PvZvsZ-xGdge"
      },
      "execution_count": 6,
      "outputs": []
    },
    {
      "cell_type": "markdown",
      "source": [
        "**If the mail only have body part below steps will proced**"
      ],
      "metadata": {
        "id": "Uf7t4dp1KAiZ"
      }
    },
    {
      "cell_type": "code",
      "source": [
        "if top!=\"\" and bottom!=\"\":\n",
        "    for i in content[content.index(top)+1:content.index(bottom)]:\n",
        "        L.append(i)\n",
        "elif top!=\"\":\n",
        "    for i in content[content.index(top)+1:]:\n",
        "        L.append(i)\n",
        "elif bottom!=\"\":\n",
        "    for i in content[content.index(0):content.index(bottom)]:\n",
        "        L.append(i)\n",
        "else:\n",
        "    L = content"
      ],
      "metadata": {
        "id": "s2W19zb8Gdip"
      },
      "execution_count": 7,
      "outputs": []
    },
    {
      "cell_type": "code",
      "source": [
        "#print the body part\n",
        "L"
      ],
      "metadata": {
        "colab": {
          "base_uri": "https://localhost:8080/"
        },
        "id": "4vuNxrmSKJYs",
        "outputId": "4585b789-cfdf-4abe-e9f5-6678eda7cbe5"
      },
      "execution_count": 8,
      "outputs": [
        {
          "output_type": "execute_result",
          "data": {
            "text/plain": [
              "['\\n',\n",
              " 'We are halfway through our API lifecycle series and the next session , \" Using the Open API Specification Across the SDLC   \"   is tomorrow, July 24th! We will be discussing the tactical journey of standardizing around Open API and how to scale and enforce design practices across teams in your organization.\\n',\n",
              " '\\n',\n",
              " \"In the past two sessions we covered upgrading from open source to pro tooling and exploring design-first vs code-first approaches to API development.  Don't worry if you missed either of these sessions, just sign-up and we will send you a recording of all the past & upcoming sessions!\\n\",\n",
              " '\\n',\n",
              " 'There are 2 more sessions left in the series, sign up now to not miss out!    Here is an overview of remaining topics we will be discussing:   \\n',\n",
              " '\\n',\n",
              " '    July 24th: Using the Open API Specification Across the SDLC\\n',\n",
              " '    July 31st: Showcasing Teams that Have Put SmartBear Tools into Action\\n',\n",
              " '\\n']"
            ]
          },
          "metadata": {},
          "execution_count": 8
        }
      ]
    },
    {
      "cell_type": "markdown",
      "source": [
        "**Data dictionary for spam mail found**"
      ],
      "metadata": {
        "id": "Z7Zq6yIZa3Vc"
      }
    },
    {
      "cell_type": "code",
      "source": [
        "# here i will use Naviebase classification algorithms to classficy the spam mail so i got spam mail regular words from internet and make a data dictionary\n",
        "spam_words = ['Act now','Action','Additional income','$$$','100%','Apply now','Bonus','Billing','Buy','Cash','Casino','Certified','Clearance',\n",
        "              'Collect','Deal','Earn','Extra','Free access','Free gift','Great','Expire','Discount','Double your income/cash','Investment','Win',\n",
        "              'Guaranteed', 'Money','Now','Refinance','Success','Risk-free','Trial', 'Free','Click here','Buy now', 'Limited time offer', 'Congratulations']\n",
        "netural_words = ['area', 'book','Thank you ','business', 'case', 'child', 'company', 'country', 'day', 'eye', 'fact', 'familay']"
      ],
      "metadata": {
        "id": "tokW0fOqKJ8Z"
      },
      "execution_count": 9,
      "outputs": []
    },
    {
      "cell_type": "markdown",
      "source": [
        "**Create NavieBayesClassifier**"
      ],
      "metadata": {
        "id": "4fiDJnAJbY4C"
      }
    },
    {
      "cell_type": "code",
      "source": [
        "def word_feats(words):\n",
        "    return dict([(word, True) for word in words])"
      ],
      "metadata": {
        "id": "WpFD3NQzKJ48"
      },
      "execution_count": 10,
      "outputs": []
    },
    {
      "cell_type": "code",
      "source": [
        "spam_features = [(word_feats(spam), 'spam') for spam in spam_words]\n",
        "netural_features = [(word_feats(netural), 'netural') for netural in netural_words]"
      ],
      "metadata": {
        "id": "RgwWwM5pKJ1G"
      },
      "execution_count": 11,
      "outputs": []
    },
    {
      "cell_type": "code",
      "source": [
        "train_set = spam_features+netural_features"
      ],
      "metadata": {
        "id": "dQU_jQWEKJxF"
      },
      "execution_count": 13,
      "outputs": []
    },
    {
      "cell_type": "code",
      "source": [
        "train_set"
      ],
      "metadata": {
        "id": "HZL5Qve__OJh"
      },
      "execution_count": null,
      "outputs": []
    },
    {
      "cell_type": "code",
      "source": [
        "classifier = NaiveBayesClassifier.train(train_set)"
      ],
      "metadata": {
        "id": "qIESdrwhKJuy"
      },
      "execution_count": 15,
      "outputs": []
    },
    {
      "cell_type": "markdown",
      "source": [
        "**Punctuation remove for body text**"
      ],
      "metadata": {
        "id": "sxvfk6CdblyL"
      }
    },
    {
      "cell_type": "code",
      "source": [
        "#here i use python string punctuation for remove punction in every sentencce\n",
        "def clear_punctuation(s):\n",
        "    clear_string = \"\"\n",
        "    for symbol in s:\n",
        "        if symbol not in string.punctuation:\n",
        "            clear_string += symbol\n",
        "    return clear_string"
      ],
      "metadata": {
        "id": "OUE1eB5XKJsg"
      },
      "execution_count": 16,
      "outputs": []
    },
    {
      "cell_type": "markdown",
      "source": [
        "**Find probability of spam mail**"
      ],
      "metadata": {
        "id": "eW1_jJhZbxgQ"
      }
    },
    {
      "cell_type": "code",
      "source": [
        "def find(sentence):\n",
        "    sentence = sentence.lower()\n",
        "    spam = 0\n",
        "    nonspam = 0\n",
        "\n",
        "    words = sentence.split(' ')\n",
        "\n",
        "    for word in words:\n",
        "\n",
        "        classResult = classifier.classify(word_feats(word))\n",
        "        if classResult == 'spam':\n",
        "            spam = spam+1\n",
        "        if classResult == 'netural':\n",
        "            nonspam = nonspam+1\n",
        "\n",
        "    return [(float(spam) / len(words)),(float(nonspam) / len(words))]"
      ],
      "metadata": {
        "id": "xBcmshxSKJp5"
      },
      "execution_count": 17,
      "outputs": []
    },
    {
      "cell_type": "code",
      "source": [
        "#it is total sapm mail percentage by every sentence values\n",
        "total_spam = 0\n",
        "total_nonspam = 0\n",
        "total = 0\n",
        "\n",
        "for i in L:\n",
        "    if i==\"\\n\":\n",
        "        pass\n",
        "    else:\n",
        "        print(i)\n",
        "        x,y = find(clear_punctuation(i))\n",
        "        total_spam = x+total_spam\n",
        "        total_nonspam = y+total_nonspam\n",
        "        total = total+1\n",
        "\n",
        "print(\"Spam probability:- \",total_spam/total)\n",
        "print(\"Non Spam probability:- \",total_nonspam/total)"
      ],
      "metadata": {
        "colab": {
          "base_uri": "https://localhost:8080/"
        },
        "id": "VWr0WoKEKJnc",
        "outputId": "8bc320de-791e-41f6-8a46-dc6cdaa1fcd6"
      },
      "execution_count": 18,
      "outputs": [
        {
          "output_type": "stream",
          "name": "stdout",
          "text": [
            "We are halfway through our API lifecycle series and the next session , \" Using the Open API Specification Across the SDLC   \"   is tomorrow, July 24th! We will be discussing the tactical journey of standardizing around Open API and how to scale and enforce design practices across teams in your organization.\n",
            "\n",
            "In the past two sessions we covered upgrading from open source to pro tooling and exploring design-first vs code-first approaches to API development.  Don't worry if you missed either of these sessions, just sign-up and we will send you a recording of all the past & upcoming sessions!\n",
            "\n",
            "There are 2 more sessions left in the series, sign up now to not miss out!    Here is an overview of remaining topics we will be discussing:   \n",
            "\n",
            "    July 24th: Using the Open API Specification Across the SDLC\n",
            "\n",
            "    July 31st: Showcasing Teams that Have Put SmartBear Tools into Action\n",
            "\n",
            "Spam probability:-  0.9786332714904145\n",
            "Non Spam probability:-  0.021366728509585653\n"
          ]
        }
      ]
    },
    {
      "cell_type": "code",
      "source": [],
      "metadata": {
        "id": "fjTLTQN1KJku"
      },
      "execution_count": null,
      "outputs": []
    }
  ]
}