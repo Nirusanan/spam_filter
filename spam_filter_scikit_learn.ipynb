{
  "nbformat": 4,
  "nbformat_minor": 0,
  "metadata": {
    "colab": {
      "provenance": []
    },
    "kernelspec": {
      "name": "python3",
      "display_name": "Python 3"
    },
    "language_info": {
      "name": "python"
    }
  },
  "cells": [
    {
      "cell_type": "code",
      "execution_count": 3,
      "metadata": {
        "colab": {
          "base_uri": "https://localhost:8080/"
        },
        "id": "kXV-OOymbWaU",
        "outputId": "3a3498c3-7e37-4b40-c9bb-ef66b27b5526"
      },
      "outputs": [
        {
          "output_type": "stream",
          "name": "stdout",
          "text": [
            "Requirement already satisfied: scikit-learn in /usr/local/lib/python3.10/dist-packages (1.2.2)\n",
            "Requirement already satisfied: numpy>=1.17.3 in /usr/local/lib/python3.10/dist-packages (from scikit-learn) (1.23.5)\n",
            "Requirement already satisfied: scipy>=1.3.2 in /usr/local/lib/python3.10/dist-packages (from scikit-learn) (1.10.1)\n",
            "Requirement already satisfied: joblib>=1.1.1 in /usr/local/lib/python3.10/dist-packages (from scikit-learn) (1.3.2)\n",
            "Requirement already satisfied: threadpoolctl>=2.0.0 in /usr/local/lib/python3.10/dist-packages (from scikit-learn) (3.2.0)\n"
          ]
        }
      ],
      "source": [
        "!pip install scikit-learn"
      ]
    },
    {
      "cell_type": "code",
      "source": [
        "from sklearn.feature_extraction.text import CountVectorizer\n",
        "from sklearn.model_selection import train_test_split\n",
        "from sklearn.naive_bayes import MultinomialNB\n",
        "from sklearn.metrics import accuracy_score, confusion_matrix\n",
        "\n",
        "# Create synthetic email dataset\n",
        "# 1 indicates spam, 0 indicates not spam\n",
        "emails = [\n",
        "    {'text': 'Hey, wanna hang out tonight?', 'label': 0},\n",
        "    {'text': 'Free money, click here now!', 'label': 1},\n",
        "    {'text': 'What are you doing later?', 'label': 0},\n",
        "    {'text': 'Congratulations, you won a prize!', 'label': 1},\n",
        "    {'text': 'Your account will be suspended', 'label': 1},\n",
        "    {'text': 'Your order has been shipped', 'label': 0},\n",
        "    {'text': 'Win a gift card worth $1000', 'label': 1},\n",
        "    {'text': 'Meeting has been rescheduled', 'label': 0},\n",
        "    {'text': 'Reminder: Appointment at 3PM', 'label': 0},\n",
        "    {'text': 'Get cash now, apply within', 'label': 1},\n",
        "]\n",
        "\n",
        "# Split into text and label lists\n",
        "texts = [email['text'] for email in emails]\n",
        "labels = [email['label'] for email in emails]\n",
        "\n",
        "# Vectorize the text data\n",
        "vectorizer = CountVectorizer()\n",
        "X = vectorizer.fit_transform(texts)\n",
        "\n",
        "# Split the data into train and test sets\n",
        "X_train, X_test, y_train, y_test = train_test_split(X, labels, test_size=0.3, random_state=42)\n",
        "\n",
        "# Train a Naive Bayes classifier\n",
        "clf = MultinomialNB()\n",
        "clf.fit(X_train, y_train)\n",
        "\n",
        "# Make predictions on the test set\n",
        "y_pred = clf.predict(X_test)\n",
        "\n",
        "# Evaluate the model\n",
        "print(f\"Accuracy: {accuracy_score(y_test, y_pred)}\")\n",
        "print(f\"Confusion Matrix:\\n{confusion_matrix(y_test, y_pred)}\")\n",
        "\n",
        "# Testing with new emails\n",
        "new_emails = [\n",
        "    'Let\\'s have dinner tonight',\n",
        "    'You won a lottery of $10,000!',\n",
        "    'Your prescription is ready'\n",
        "]\n",
        "\n",
        "new_emails_vectorized = vectorizer.transform(new_emails)\n",
        "new_pred = clf.predict(new_emails_vectorized)\n",
        "\n",
        "print(\"New email predictions:\", new_pred)\n"
      ],
      "metadata": {
        "colab": {
          "base_uri": "https://localhost:8080/"
        },
        "id": "71prelkXbY_x",
        "outputId": "a414b333-abf9-42b0-86db-cb355e47bd5d"
      },
      "execution_count": 4,
      "outputs": [
        {
          "output_type": "stream",
          "name": "stdout",
          "text": [
            "Accuracy: 1.0\n",
            "Confusion Matrix:\n",
            "[[2 0]\n",
            " [0 1]]\n",
            "New email predictions: [0 1 1]\n"
          ]
        }
      ]
    }
  ]
}